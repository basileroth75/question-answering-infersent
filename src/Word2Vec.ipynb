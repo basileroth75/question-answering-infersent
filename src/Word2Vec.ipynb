{
 "cells": [
  {
   "cell_type": "markdown",
   "metadata": {},
   "source": [
    "# 1. Word2Vec Model"
   ]
  },
  {
   "cell_type": "code",
   "execution_count": 1,
   "metadata": {},
   "outputs": [
    {
     "name": "stderr",
     "output_type": "stream",
     "text": [
      "Using TensorFlow backend.\n"
     ]
    }
   ],
   "source": [
    "import os\n",
    "import gensim\n",
    "\n",
    "from utils import *\n",
    "\n",
    "import warnings\n",
    "warnings.filterwarnings(action='ignore', category=UserWarning, module='gensim')"
   ]
  },
  {
   "cell_type": "markdown",
   "metadata": {},
   "source": [
    "## 1.1. Train Word2Vec Model"
   ]
  },
  {
   "cell_type": "markdown",
   "metadata": {},
   "source": [
    "### Getting Data"
   ]
  },
  {
   "cell_type": "code",
   "execution_count": 2,
   "metadata": {},
   "outputs": [],
   "source": [
    "class MySentences(object):\n",
    "    def __init__(self, dirname):    \n",
    "        \"\"\"\n",
    "        Sentences loading class\n",
    "        A memory-friendly iterator for word2vec model.\n",
    "        # Arguments\n",
    "            dirname : directory path of sentencens/data files.\n",
    "        # Returns\n",
    "            Sentences.\n",
    "        \"\"\"\n",
    "        self.dirname = dirname\n",
    " \n",
    "    def __iter__(self):\n",
    "        for fname in os.listdir(self.dirname):\n",
    "            for line in open(os.path.join(self.dirname, fname)):\n",
    "                yield line.split()"
   ]
  },
  {
   "cell_type": "code",
   "execution_count": 3,
   "metadata": {},
   "outputs": [],
   "source": [
    "# I use a memory friendly iterator\n",
    "text_w2v = MySentences(dirname='../data/')"
   ]
  },
  {
   "cell_type": "markdown",
   "metadata": {},
   "source": [
    "### CBOW Version"
   ]
  },
  {
   "cell_type": "code",
   "execution_count": 4,
   "metadata": {
    "scrolled": true
   },
   "outputs": [],
   "source": [
    "model_w2v = gensim.models.Word2Vec(sentences=text_w2v, size=300, sg=0, hs=1)\n",
    "if not os.path.exists('../models'):\n",
    "    os.mkdir('../models')\n",
    "model_w2v.save('../models/w2v_cbow_300D')"
   ]
  },
  {
   "cell_type": "markdown",
   "metadata": {},
   "source": [
    "### Skip-Gram Version"
   ]
  },
  {
   "cell_type": "code",
   "execution_count": 5,
   "metadata": {},
   "outputs": [],
   "source": [
    "model_w2v = gensim.models.Word2Vec(sentences=text_w2v, size=300, sg=1, hs=1)\n",
    "if not os.path.exists('../models'):\n",
    "    os.mkdir('../models')\n",
    "model_w2v.save('../models/w2v_sg_300D')"
   ]
  },
  {
   "cell_type": "markdown",
   "metadata": {},
   "source": [
    "## 1.2. Load Word2Vec Model"
   ]
  },
  {
   "cell_type": "markdown",
   "metadata": {},
   "source": [
    "### - CBOW Version"
   ]
  },
  {
   "cell_type": "code",
   "execution_count": 6,
   "metadata": {},
   "outputs": [],
   "source": [
    "model_w2v = gensim.models.Word2Vec.load('../models/w2v_cbow_300D')"
   ]
  },
  {
   "cell_type": "markdown",
   "metadata": {},
   "source": [
    "- #### Similar Words"
   ]
  },
  {
   "cell_type": "code",
   "execution_count": 7,
   "metadata": {},
   "outputs": [
    {
     "data": {
      "text/plain": [
       "[('dur', 0.701798677444458),\n",
       " ('facile', 0.6994661092758179),\n",
       " ('pénible', 0.5951988101005554),\n",
       " ('agréable', 0.5823794603347778),\n",
       " ('étrange', 0.5800133943557739),\n",
       " ('amusant', 0.5518156290054321),\n",
       " ('compliqué', 0.5509512424468994),\n",
       " ('impossible', 0.5317744612693787),\n",
       " ('gênant', 0.5241851806640625),\n",
       " ('important', 0.5237008333206177)]"
      ]
     },
     "execution_count": 7,
     "metadata": {},
     "output_type": "execute_result"
    }
   ],
   "source": [
    "model_w2v.wv.most_similar('difficile')"
   ]
  },
  {
   "cell_type": "markdown",
   "metadata": {},
   "source": [
    "### - Skip-Gram Version"
   ]
  },
  {
   "cell_type": "code",
   "execution_count": 7,
   "metadata": {
    "scrolled": true
   },
   "outputs": [],
   "source": [
    "model_w2v = gensim.models.Word2Vec.load('../models/w2v_sg_300D')"
   ]
  },
  {
   "cell_type": "markdown",
   "metadata": {},
   "source": [
    "- #### Similar Words"
   ]
  },
  {
   "cell_type": "code",
   "execution_count": 8,
   "metadata": {},
   "outputs": [
    {
     "data": {
      "text/plain": [
       "[('dur', 0.5741609334945679),\n",
       " ('pénible', 0.5671994686126709),\n",
       " ('rude', 0.5307800769805908),\n",
       " ('facile', 0.5286517143249512),\n",
       " ('éprouvante', 0.5169097185134888),\n",
       " ('éprouvant', 0.5106732845306396),\n",
       " (\"s'imaginer\", 0.5098478198051453),\n",
       " ('instructif', 0.49842825531959534),\n",
       " ('stressante', 0.49489402770996094),\n",
       " ('frustrant', 0.4873944818973541)]"
      ]
     },
     "execution_count": 8,
     "metadata": {},
     "output_type": "execute_result"
    }
   ],
   "source": [
    "model_w2v.wv.most_similar('difficile')"
   ]
  },
  {
   "cell_type": "code",
   "execution_count": null,
   "metadata": {},
   "outputs": [],
   "source": []
  }
 ],
 "metadata": {
  "kernelspec": {
   "display_name": "Python 3",
   "language": "python",
   "name": "python3"
  },
  "language_info": {
   "codemirror_mode": {
    "name": "ipython",
    "version": 3
   },
   "file_extension": ".py",
   "mimetype": "text/x-python",
   "name": "python",
   "nbconvert_exporter": "python",
   "pygments_lexer": "ipython3",
   "version": "3.7.7"
  }
 },
 "nbformat": 4,
 "nbformat_minor": 2
}
