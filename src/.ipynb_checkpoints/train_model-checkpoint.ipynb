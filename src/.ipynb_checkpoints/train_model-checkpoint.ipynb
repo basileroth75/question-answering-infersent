{
 "cells": [
  {
   "cell_type": "markdown",
   "metadata": {},
   "source": [
    "# Load the training data"
   ]
  },
  {
   "cell_type": "code",
   "execution_count": 3,
   "metadata": {},
   "outputs": [],
   "source": [
    "import pandas as pd\n",
    "feature_df = pd.read_csv('../data/train.csv')"
   ]
  },
  {
   "cell_type": "code",
   "execution_count": 4,
   "metadata": {},
   "outputs": [
    {
     "data": {
      "text/html": [
       "<div>\n",
       "<style scoped>\n",
       "    .dataframe tbody tr th:only-of-type {\n",
       "        vertical-align: middle;\n",
       "    }\n",
       "\n",
       "    .dataframe tbody tr th {\n",
       "        vertical-align: top;\n",
       "    }\n",
       "\n",
       "    .dataframe thead th {\n",
       "        text-align: right;\n",
       "    }\n",
       "</style>\n",
       "<table border=\"1\" class=\"dataframe\">\n",
       "  <thead>\n",
       "    <tr style=\"text-align: right;\">\n",
       "      <th></th>\n",
       "      <th>cos_dist_0</th>\n",
       "      <th>cos_dist_1</th>\n",
       "      <th>cos_dist_2</th>\n",
       "      <th>cos_dist_3</th>\n",
       "      <th>cos_dist_4</th>\n",
       "      <th>cos_dist_5</th>\n",
       "      <th>cos_dist_6</th>\n",
       "      <th>cos_dist_7</th>\n",
       "      <th>cos_dist_8</th>\n",
       "      <th>cos_dist_9</th>\n",
       "      <th>cos_dist_10</th>\n",
       "      <th>True Index</th>\n",
       "      <th>Pred Index</th>\n",
       "    </tr>\n",
       "  </thead>\n",
       "  <tbody>\n",
       "    <tr>\n",
       "      <th>0</th>\n",
       "      <td>0.869066</td>\n",
       "      <td>0.724019</td>\n",
       "      <td>0.755597</td>\n",
       "      <td>0.806772</td>\n",
       "      <td>0.600662</td>\n",
       "      <td>0.611901</td>\n",
       "      <td>0.000000</td>\n",
       "      <td>0.0</td>\n",
       "      <td>0.0</td>\n",
       "      <td>0.0</td>\n",
       "      <td>0.0</td>\n",
       "      <td>0.0</td>\n",
       "      <td>0.0</td>\n",
       "    </tr>\n",
       "    <tr>\n",
       "      <th>1</th>\n",
       "      <td>0.654552</td>\n",
       "      <td>0.611382</td>\n",
       "      <td>0.636398</td>\n",
       "      <td>0.756420</td>\n",
       "      <td>0.601566</td>\n",
       "      <td>0.634997</td>\n",
       "      <td>0.000000</td>\n",
       "      <td>0.0</td>\n",
       "      <td>0.0</td>\n",
       "      <td>0.0</td>\n",
       "      <td>0.0</td>\n",
       "      <td>3.0</td>\n",
       "      <td>3.0</td>\n",
       "    </tr>\n",
       "    <tr>\n",
       "      <th>2</th>\n",
       "      <td>0.582731</td>\n",
       "      <td>0.611122</td>\n",
       "      <td>0.533559</td>\n",
       "      <td>0.713906</td>\n",
       "      <td>0.403162</td>\n",
       "      <td>0.803759</td>\n",
       "      <td>0.000000</td>\n",
       "      <td>0.0</td>\n",
       "      <td>0.0</td>\n",
       "      <td>0.0</td>\n",
       "      <td>0.0</td>\n",
       "      <td>5.0</td>\n",
       "      <td>5.0</td>\n",
       "    </tr>\n",
       "    <tr>\n",
       "      <th>3</th>\n",
       "      <td>0.582731</td>\n",
       "      <td>0.611122</td>\n",
       "      <td>0.533559</td>\n",
       "      <td>0.713906</td>\n",
       "      <td>0.403162</td>\n",
       "      <td>0.803759</td>\n",
       "      <td>0.000000</td>\n",
       "      <td>0.0</td>\n",
       "      <td>0.0</td>\n",
       "      <td>0.0</td>\n",
       "      <td>0.0</td>\n",
       "      <td>5.0</td>\n",
       "      <td>5.0</td>\n",
       "    </tr>\n",
       "    <tr>\n",
       "      <th>4</th>\n",
       "      <td>0.713523</td>\n",
       "      <td>0.630822</td>\n",
       "      <td>0.746562</td>\n",
       "      <td>0.632307</td>\n",
       "      <td>0.577110</td>\n",
       "      <td>0.000000</td>\n",
       "      <td>0.000000</td>\n",
       "      <td>0.0</td>\n",
       "      <td>0.0</td>\n",
       "      <td>0.0</td>\n",
       "      <td>0.0</td>\n",
       "      <td>0.0</td>\n",
       "      <td>2.0</td>\n",
       "    </tr>\n",
       "    <tr>\n",
       "      <th>...</th>\n",
       "      <td>...</td>\n",
       "      <td>...</td>\n",
       "      <td>...</td>\n",
       "      <td>...</td>\n",
       "      <td>...</td>\n",
       "      <td>...</td>\n",
       "      <td>...</td>\n",
       "      <td>...</td>\n",
       "      <td>...</td>\n",
       "      <td>...</td>\n",
       "      <td>...</td>\n",
       "      <td>...</td>\n",
       "      <td>...</td>\n",
       "    </tr>\n",
       "    <tr>\n",
       "      <th>23227</th>\n",
       "      <td>0.799940</td>\n",
       "      <td>0.552146</td>\n",
       "      <td>0.727635</td>\n",
       "      <td>0.672169</td>\n",
       "      <td>0.666680</td>\n",
       "      <td>0.635924</td>\n",
       "      <td>0.563466</td>\n",
       "      <td>0.0</td>\n",
       "      <td>0.0</td>\n",
       "      <td>0.0</td>\n",
       "      <td>0.0</td>\n",
       "      <td>0.0</td>\n",
       "      <td>0.0</td>\n",
       "    </tr>\n",
       "    <tr>\n",
       "      <th>23228</th>\n",
       "      <td>0.556298</td>\n",
       "      <td>0.756451</td>\n",
       "      <td>0.539537</td>\n",
       "      <td>0.531432</td>\n",
       "      <td>0.676728</td>\n",
       "      <td>0.494054</td>\n",
       "      <td>0.675802</td>\n",
       "      <td>0.0</td>\n",
       "      <td>0.0</td>\n",
       "      <td>0.0</td>\n",
       "      <td>0.0</td>\n",
       "      <td>1.0</td>\n",
       "      <td>1.0</td>\n",
       "    </tr>\n",
       "    <tr>\n",
       "      <th>23229</th>\n",
       "      <td>0.625296</td>\n",
       "      <td>0.580917</td>\n",
       "      <td>0.731684</td>\n",
       "      <td>0.726662</td>\n",
       "      <td>0.668341</td>\n",
       "      <td>0.658828</td>\n",
       "      <td>0.612406</td>\n",
       "      <td>0.0</td>\n",
       "      <td>0.0</td>\n",
       "      <td>0.0</td>\n",
       "      <td>0.0</td>\n",
       "      <td>2.0</td>\n",
       "      <td>2.0</td>\n",
       "    </tr>\n",
       "    <tr>\n",
       "      <th>23230</th>\n",
       "      <td>0.637104</td>\n",
       "      <td>0.455297</td>\n",
       "      <td>0.680673</td>\n",
       "      <td>0.694067</td>\n",
       "      <td>0.592344</td>\n",
       "      <td>0.694899</td>\n",
       "      <td>0.423192</td>\n",
       "      <td>0.0</td>\n",
       "      <td>0.0</td>\n",
       "      <td>0.0</td>\n",
       "      <td>0.0</td>\n",
       "      <td>3.0</td>\n",
       "      <td>5.0</td>\n",
       "    </tr>\n",
       "    <tr>\n",
       "      <th>23231</th>\n",
       "      <td>0.444800</td>\n",
       "      <td>0.558160</td>\n",
       "      <td>0.433158</td>\n",
       "      <td>0.446307</td>\n",
       "      <td>0.497411</td>\n",
       "      <td>0.406678</td>\n",
       "      <td>0.749692</td>\n",
       "      <td>0.0</td>\n",
       "      <td>0.0</td>\n",
       "      <td>0.0</td>\n",
       "      <td>0.0</td>\n",
       "      <td>6.0</td>\n",
       "      <td>6.0</td>\n",
       "    </tr>\n",
       "  </tbody>\n",
       "</table>\n",
       "<p>23232 rows × 13 columns</p>\n",
       "</div>"
      ],
      "text/plain": [
       "       cos_dist_0  cos_dist_1  cos_dist_2  cos_dist_3  cos_dist_4  cos_dist_5  \\\n",
       "0        0.869066    0.724019    0.755597    0.806772    0.600662    0.611901   \n",
       "1        0.654552    0.611382    0.636398    0.756420    0.601566    0.634997   \n",
       "2        0.582731    0.611122    0.533559    0.713906    0.403162    0.803759   \n",
       "3        0.582731    0.611122    0.533559    0.713906    0.403162    0.803759   \n",
       "4        0.713523    0.630822    0.746562    0.632307    0.577110    0.000000   \n",
       "...           ...         ...         ...         ...         ...         ...   \n",
       "23227    0.799940    0.552146    0.727635    0.672169    0.666680    0.635924   \n",
       "23228    0.556298    0.756451    0.539537    0.531432    0.676728    0.494054   \n",
       "23229    0.625296    0.580917    0.731684    0.726662    0.668341    0.658828   \n",
       "23230    0.637104    0.455297    0.680673    0.694067    0.592344    0.694899   \n",
       "23231    0.444800    0.558160    0.433158    0.446307    0.497411    0.406678   \n",
       "\n",
       "       cos_dist_6  cos_dist_7  cos_dist_8  cos_dist_9  cos_dist_10  \\\n",
       "0        0.000000         0.0         0.0         0.0          0.0   \n",
       "1        0.000000         0.0         0.0         0.0          0.0   \n",
       "2        0.000000         0.0         0.0         0.0          0.0   \n",
       "3        0.000000         0.0         0.0         0.0          0.0   \n",
       "4        0.000000         0.0         0.0         0.0          0.0   \n",
       "...           ...         ...         ...         ...          ...   \n",
       "23227    0.563466         0.0         0.0         0.0          0.0   \n",
       "23228    0.675802         0.0         0.0         0.0          0.0   \n",
       "23229    0.612406         0.0         0.0         0.0          0.0   \n",
       "23230    0.423192         0.0         0.0         0.0          0.0   \n",
       "23231    0.749692         0.0         0.0         0.0          0.0   \n",
       "\n",
       "       True Index  Pred Index  \n",
       "0             0.0         0.0  \n",
       "1             3.0         3.0  \n",
       "2             5.0         5.0  \n",
       "3             5.0         5.0  \n",
       "4             0.0         2.0  \n",
       "...           ...         ...  \n",
       "23227         0.0         0.0  \n",
       "23228         1.0         1.0  \n",
       "23229         2.0         2.0  \n",
       "23230         3.0         5.0  \n",
       "23231         6.0         6.0  \n",
       "\n",
       "[23232 rows x 13 columns]"
      ]
     },
     "metadata": {},
     "output_type": "display_data"
    }
   ],
   "source": [
    "display(feature_df)"
   ]
  },
  {
   "cell_type": "markdown",
   "metadata": {},
   "source": [
    "# Train"
   ]
  },
  {
   "cell_type": "code",
   "execution_count": 5,
   "metadata": {},
   "outputs": [],
   "source": [
    "new_feature_df = feature_df[[\"cos_dist_0\",\n",
    "                            \"cos_dist_1\",\n",
    "                            \"cos_dist_2\",\n",
    "                            \"cos_dist_3\",\n",
    "                            \"cos_dist_4\",\n",
    "                            \"cos_dist_5\",\n",
    "                            \"cos_dist_6\",\n",
    "                            \"cos_dist_7\",\n",
    "                            \"cos_dist_8\",\n",
    "                            \"cos_dist_9\",\n",
    "                            \"cos_dist_10\",\n",
    "                            \"True Index\"]].copy()"
   ]
  },
  {
   "cell_type": "code",
   "execution_count": 6,
   "metadata": {},
   "outputs": [
    {
     "data": {
      "text/plain": [
       "cos_dist_0     1.000000\n",
       "cos_dist_1     0.986369\n",
       "cos_dist_2     1.000000\n",
       "cos_dist_3     1.000000\n",
       "cos_dist_4     0.981930\n",
       "cos_dist_5     0.983972\n",
       "cos_dist_6     0.988034\n",
       "cos_dist_7     0.977589\n",
       "cos_dist_8     0.955797\n",
       "cos_dist_9     0.871140\n",
       "cos_dist_10    0.000000\n",
       "True Index     9.000000\n",
       "dtype: float64"
      ]
     },
     "execution_count": 6,
     "metadata": {},
     "output_type": "execute_result"
    }
   ],
   "source": [
    "new_feature_df.apply(max, axis = 0)"
   ]
  },
  {
   "cell_type": "code",
   "execution_count": 7,
   "metadata": {},
   "outputs": [],
   "source": [
    "from sklearn.preprocessing import StandardScaler, MinMaxScaler\n",
    "\n",
    "scaler = MinMaxScaler()\n",
    "X = scaler.fit_transform(new_feature_df.iloc[:,:-1])"
   ]
  },
  {
   "cell_type": "code",
   "execution_count": 8,
   "metadata": {},
   "outputs": [],
   "source": [
    "from sklearn.model_selection import train_test_split\n",
    "\n",
    "train_x, test_x, train_y, test_y = train_test_split(X,\n",
    "new_feature_df.iloc[:,-1], train_size=0.8, random_state = 5)"
   ]
  },
  {
   "cell_type": "markdown",
   "metadata": {},
   "source": [
    "# Multinomial Logistic regression"
   ]
  },
  {
   "cell_type": "code",
   "execution_count": 9,
   "metadata": {},
   "outputs": [
    {
     "name": "stdout",
     "output_type": "stream",
     "text": [
      "Multinomial Logistic regression Train Accuracy :  0.6802797955340328\n",
      "Multinomial Logistic regression Test Accuracy :  0.6935657413384979\n"
     ]
    }
   ],
   "source": [
    "from sklearn import linear_model,metrics\n",
    "\n",
    "mul_lr = linear_model.LogisticRegression(multi_class='multinomial', solver='newton-cg')\n",
    "mul_lr.fit(train_x, train_y)\n",
    "\n",
    "print(\"Multinomial Logistic regression Train Accuracy : \", metrics.accuracy_score(train_y, mul_lr.predict(train_x)))\n",
    "print(\"Multinomial Logistic regression Test Accuracy : \", metrics.accuracy_score(test_y, mul_lr.predict(test_x)))"
   ]
  },
  {
   "cell_type": "markdown",
   "metadata": {},
   "source": [
    "# Random Forest Classifier"
   ]
  },
  {
   "cell_type": "code",
   "execution_count": 10,
   "metadata": {},
   "outputs": [
    {
     "name": "stdout",
     "output_type": "stream",
     "text": [
      "RandomForestClassifier Train Accuracy :  0.7437180521926284\n",
      "RandomForestClassifier Test Accuracy :  0.6853884226382613\n"
     ]
    }
   ],
   "source": [
    "from sklearn.ensemble import RandomForestClassifier\n",
    "\n",
    "rf = RandomForestClassifier(min_samples_leaf=8, n_estimators=60)\n",
    "rf.fit(train_x, train_y)\n",
    "\n",
    "print(\"RandomForestClassifier Train Accuracy : \", metrics.accuracy_score(train_y, rf.predict(train_x)))\n",
    "print(\"RandomForestClassifier Test Accuracy : \", metrics.accuracy_score(test_y, rf.predict(test_x)))"
   ]
  },
  {
   "cell_type": "markdown",
   "metadata": {},
   "source": [
    "# XGBoost"
   ]
  },
  {
   "cell_type": "code",
   "execution_count": 11,
   "metadata": {},
   "outputs": [
    {
     "name": "stdout",
     "output_type": "stream",
     "text": [
      "Fitting 3 folds for each of 27 candidates, totalling 81 fits\n"
     ]
    },
    {
     "name": "stderr",
     "output_type": "stream",
     "text": [
      "[Parallel(n_jobs=-1)]: Using backend LokyBackend with 4 concurrent workers.\n",
      "[Parallel(n_jobs=-1)]: Done  10 tasks      | elapsed:   54.1s\n",
      "[Parallel(n_jobs=-1)]: Done  64 tasks      | elapsed:  6.8min\n",
      "[Parallel(n_jobs=-1)]: Done  81 out of  81 | elapsed:  8.9min finished\n"
     ]
    },
    {
     "data": {
      "text/plain": [
       "GridSearchCV(cv=3, error_score=nan,\n",
       "             estimator=XGBClassifier(base_score=None, booster=None,\n",
       "                                     colsample_bylevel=None,\n",
       "                                     colsample_bynode=None,\n",
       "                                     colsample_bytree=None, gamma=None,\n",
       "                                     gpu_id=None, importance_type='gain',\n",
       "                                     interaction_constraints=None,\n",
       "                                     learning_rate=None, max_delta_step=None,\n",
       "                                     max_depth=None, min_child_weight=None,\n",
       "                                     missing=nan, monotone_constraints=None,\n",
       "                                     n_estim...\n",
       "                                     objective='binary:logistic',\n",
       "                                     random_state=None, reg_alpha=None,\n",
       "                                     reg_lambda=None, scale_pos_weight=None,\n",
       "                                     subsample=None, tree_method=None,\n",
       "                                     validate_parameters=None, verbosity=None),\n",
       "             iid='deprecated', n_jobs=-1,\n",
       "             param_grid={'learning_rate': [0.07, 0.1, 0.2],\n",
       "                         'max_depth': [3, 5, 10],\n",
       "                         'min_child_weight': [1, 5, 10]},\n",
       "             pre_dispatch='2*n_jobs', refit=True, return_train_score=False,\n",
       "             scoring=None, verbose=5)"
      ]
     },
     "execution_count": 11,
     "metadata": {},
     "output_type": "execute_result"
    }
   ],
   "source": [
    "import xgboost as xgb\n",
    "from sklearn.model_selection import RandomizedSearchCV, GridSearchCV\n",
    "model = xgb.XGBClassifier()\n",
    "\n",
    "param_dist = {\"max_depth\": [3,5,10],\n",
    "              \"min_child_weight\" : [1,5,10],\n",
    "              \"learning_rate\": [0.07, 0.1,0.2],\n",
    "               }\n",
    "\n",
    "# run randomized search\n",
    "grid_search = GridSearchCV(model, param_grid=param_dist, cv = 3, \n",
    "                                   verbose=5, n_jobs=-1)\n",
    "grid_search.fit(train_x, train_y)"
   ]
  },
  {
   "cell_type": "code",
   "execution_count": 12,
   "metadata": {},
   "outputs": [
    {
     "data": {
      "text/plain": [
       "XGBClassifier(base_score=0.5, booster='gbtree', colsample_bylevel=1,\n",
       "              colsample_bynode=1, colsample_bytree=1, gamma=0, gpu_id=-1,\n",
       "              importance_type='gain', interaction_constraints='',\n",
       "              learning_rate=0.1, max_delta_step=0, max_depth=5,\n",
       "              min_child_weight=1, missing=nan, monotone_constraints='()',\n",
       "              n_estimators=100, n_jobs=0, num_parallel_tree=1,\n",
       "              objective='multi:softprob', random_state=0, reg_alpha=0,\n",
       "              reg_lambda=1, scale_pos_weight=None, subsample=1,\n",
       "              tree_method='exact', validate_parameters=1, verbosity=None)"
      ]
     },
     "execution_count": 12,
     "metadata": {},
     "output_type": "execute_result"
    }
   ],
   "source": [
    "grid_search.best_estimator_"
   ]
  },
  {
   "cell_type": "code",
   "execution_count": 13,
   "metadata": {},
   "outputs": [
    {
     "name": "stdout",
     "output_type": "stream",
     "text": [
      "XGBClassifier Train Accuracy :  0.7793919827818133\n",
      "XGBClassifier Test Accuracy :  0.6821605336776415\n"
     ]
    }
   ],
   "source": [
    "xg = xgb.XGBClassifier(max_depth=5)\n",
    "xg.fit(train_x, train_y)\n",
    "\n",
    "print(\"XGBClassifier Train Accuracy : \", metrics.accuracy_score(train_y, xg.predict(train_x)))\n",
    "print(\"XGBClassifier Test Accuracy : \", metrics.accuracy_score(test_y, xg.predict(test_x)))"
   ]
  }
 ],
 "metadata": {
  "kernelspec": {
   "display_name": "Python 3",
   "language": "python",
   "name": "python3"
  },
  "language_info": {
   "codemirror_mode": {
    "name": "ipython",
    "version": 3
   },
   "file_extension": ".py",
   "mimetype": "text/x-python",
   "name": "python",
   "nbconvert_exporter": "python",
   "pygments_lexer": "ipython3",
   "version": "3.7.7"
  }
 },
 "nbformat": 4,
 "nbformat_minor": 4
}
