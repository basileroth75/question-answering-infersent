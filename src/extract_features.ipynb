{
 "cells": [
  {
   "cell_type": "markdown",
   "metadata": {},
   "source": [
    "# Load data from JSON file\n",
    "- Create empty dataframe\n",
    "- Loop on every question/answer pair in the file\n",
    "- Add a row to the dataframe for each pair"
   ]
  },
  {
   "cell_type": "code",
   "execution_count": 1,
   "metadata": {},
   "outputs": [],
   "source": [
    "import json\n",
    "import pandas as pd\n",
    "\n",
    "question_df = pd.DataFrame(columns=[\"Question\",\"Context\",\"Text answer\",\"Answer start\"])\n",
    "\n",
    "FILE_PATH = \"../data/\"\n",
    "\n",
    "with open(FILE_PATH+'train.json') as json_file:\n",
    "    data = json.load(json_file)\n",
    "    for book in data['data']:\n",
    "        for paragraph in book['paragraphs']:\n",
    "            for question in paragraph['qas']:\n",
    "                row = pd.Series(data={'Question' : question['question'],\n",
    "                                      'Context' : paragraph['context'],\n",
    "                                      'Text answer': question['answers'][0]['answer_start'],\n",
    "                                      'Answer start': question['answers'][0]['text']})\n",
    "                question_df = question_df.append(row,ignore_index=True)\n",
    "                \n",
    "with open(FILE_PATH+'valid.json') as json_file:\n",
    "    data = json.load(json_file)\n",
    "    for book in data['data']:\n",
    "        for paragraph in book['paragraphs']:\n",
    "            for question in paragraph['qas']:\n",
    "                row = pd.Series(data={'Question' : question['question'],\n",
    "                                      'Context' : paragraph['context'],\n",
    "                                      'Text answer': question['answers'][0]['answer_start'],\n",
    "                                      'Answer start': question['answers'][0]['text']})\n",
    "                question_df = question_df.append(row,ignore_index=True)"
   ]
  },
  {
   "cell_type": "code",
   "execution_count": 2,
   "metadata": {
    "scrolled": true
   },
   "outputs": [
    {
     "data": {
      "text/html": [
       "<div>\n",
       "<style scoped>\n",
       "    .dataframe tbody tr th:only-of-type {\n",
       "        vertical-align: middle;\n",
       "    }\n",
       "\n",
       "    .dataframe tbody tr th {\n",
       "        vertical-align: top;\n",
       "    }\n",
       "\n",
       "    .dataframe thead th {\n",
       "        text-align: right;\n",
       "    }\n",
       "</style>\n",
       "<table border=\"1\" class=\"dataframe\">\n",
       "  <thead>\n",
       "    <tr style=\"text-align: right;\">\n",
       "      <th></th>\n",
       "      <th>Question</th>\n",
       "      <th>Context</th>\n",
       "      <th>Text answer</th>\n",
       "      <th>Answer start</th>\n",
       "    </tr>\n",
       "  </thead>\n",
       "  <tbody>\n",
       "    <tr>\n",
       "      <th>0</th>\n",
       "      <td>Quel astronome a émit l'idée en premier d'une ...</td>\n",
       "      <td>L'idée selon laquelle une planète inconnue pou...</td>\n",
       "      <td>136</td>\n",
       "      <td>Johann Elert Bode</td>\n",
       "    </tr>\n",
       "    <tr>\n",
       "      <th>1</th>\n",
       "      <td>Quel astronome découvrit Uranus ?</td>\n",
       "      <td>L'idée selon laquelle une planète inconnue pou...</td>\n",
       "      <td>404</td>\n",
       "      <td>William Herschel</td>\n",
       "    </tr>\n",
       "    <tr>\n",
       "      <th>2</th>\n",
       "      <td>Quelles furent les découvertes finales des vin...</td>\n",
       "      <td>L'idée selon laquelle une planète inconnue pou...</td>\n",
       "      <td>733</td>\n",
       "      <td>plusieurs autres astéroïdes</td>\n",
       "    </tr>\n",
       "    <tr>\n",
       "      <th>3</th>\n",
       "      <td>Quelles furent les découvertes finales des vin...</td>\n",
       "      <td>L'idée selon laquelle une planète inconnue pou...</td>\n",
       "      <td>733</td>\n",
       "      <td>plusieurs autres astéroïdes</td>\n",
       "    </tr>\n",
       "    <tr>\n",
       "      <th>4</th>\n",
       "      <td>Combien de fois Piazzi est-il parvenu à observ...</td>\n",
       "      <td>Piazzi observa Cérès 24 fois, la dernière fois...</td>\n",
       "      <td>21</td>\n",
       "      <td>24</td>\n",
       "    </tr>\n",
       "    <tr>\n",
       "      <th>...</th>\n",
       "      <td>...</td>\n",
       "      <td>...</td>\n",
       "      <td>...</td>\n",
       "      <td>...</td>\n",
       "    </tr>\n",
       "    <tr>\n",
       "      <th>23914</th>\n",
       "      <td>A quel risque la zone où se situe la chapelle ...</td>\n",
       "      <td>La chapelle se trouvant dans une zone inondabl...</td>\n",
       "      <td>33</td>\n",
       "      <td>zone inondable</td>\n",
       "    </tr>\n",
       "    <tr>\n",
       "      <th>23915</th>\n",
       "      <td>Comment était disposés les murets par rapport ...</td>\n",
       "      <td>La chapelle se trouvant dans une zone inondabl...</td>\n",
       "      <td>210</td>\n",
       "      <td>perpendiculaires au courant</td>\n",
       "    </tr>\n",
       "    <tr>\n",
       "      <th>23916</th>\n",
       "      <td>En quelle matière sont les dalles du canal ?</td>\n",
       "      <td>La chapelle se trouvant dans une zone inondabl...</td>\n",
       "      <td>322</td>\n",
       "      <td>schiste</td>\n",
       "    </tr>\n",
       "    <tr>\n",
       "      <th>23917</th>\n",
       "      <td>Par quoi le canal est-il doublé ?</td>\n",
       "      <td>La chapelle se trouvant dans une zone inondabl...</td>\n",
       "      <td>479</td>\n",
       "      <td>par une digue</td>\n",
       "    </tr>\n",
       "    <tr>\n",
       "      <th>23918</th>\n",
       "      <td>A quoi devaient servir les terrasses ?</td>\n",
       "      <td>La chapelle se trouvant dans une zone inondabl...</td>\n",
       "      <td>1060</td>\n",
       "      <td>terrains agricoles</td>\n",
       "    </tr>\n",
       "  </tbody>\n",
       "</table>\n",
       "<p>23919 rows × 4 columns</p>\n",
       "</div>"
      ],
      "text/plain": [
       "                                                Question  \\\n",
       "0      Quel astronome a émit l'idée en premier d'une ...   \n",
       "1                      Quel astronome découvrit Uranus ?   \n",
       "2      Quelles furent les découvertes finales des vin...   \n",
       "3      Quelles furent les découvertes finales des vin...   \n",
       "4      Combien de fois Piazzi est-il parvenu à observ...   \n",
       "...                                                  ...   \n",
       "23914  A quel risque la zone où se situe la chapelle ...   \n",
       "23915  Comment était disposés les murets par rapport ...   \n",
       "23916       En quelle matière sont les dalles du canal ?   \n",
       "23917                  Par quoi le canal est-il doublé ?   \n",
       "23918             A quoi devaient servir les terrasses ?   \n",
       "\n",
       "                                                 Context Text answer  \\\n",
       "0      L'idée selon laquelle une planète inconnue pou...         136   \n",
       "1      L'idée selon laquelle une planète inconnue pou...         404   \n",
       "2      L'idée selon laquelle une planète inconnue pou...         733   \n",
       "3      L'idée selon laquelle une planète inconnue pou...         733   \n",
       "4      Piazzi observa Cérès 24 fois, la dernière fois...          21   \n",
       "...                                                  ...         ...   \n",
       "23914  La chapelle se trouvant dans une zone inondabl...          33   \n",
       "23915  La chapelle se trouvant dans une zone inondabl...         210   \n",
       "23916  La chapelle se trouvant dans une zone inondabl...         322   \n",
       "23917  La chapelle se trouvant dans une zone inondabl...         479   \n",
       "23918  La chapelle se trouvant dans une zone inondabl...        1060   \n",
       "\n",
       "                      Answer start  \n",
       "0                Johann Elert Bode  \n",
       "1                 William Herschel  \n",
       "2      plusieurs autres astéroïdes  \n",
       "3      plusieurs autres astéroïdes  \n",
       "4                               24  \n",
       "...                            ...  \n",
       "23914               zone inondable  \n",
       "23915  perpendiculaires au courant  \n",
       "23916                      schiste  \n",
       "23917                par une digue  \n",
       "23918           terrains agricoles  \n",
       "\n",
       "[23919 rows x 4 columns]"
      ]
     },
     "metadata": {},
     "output_type": "display_data"
    }
   ],
   "source": [
    "display(question_df)"
   ]
  },
  {
   "cell_type": "markdown",
   "metadata": {},
   "source": [
    "# Load the model"
   ]
  },
  {
   "cell_type": "code",
   "execution_count": 3,
   "metadata": {},
   "outputs": [],
   "source": [
    "import os\n",
    "import gensim\n",
    "\n",
    "from utils import *\n",
    "\n",
    "import warnings\n",
    "warnings.filterwarnings(action='ignore', category=UserWarning, module='gensim')"
   ]
  },
  {
   "cell_type": "markdown",
   "metadata": {},
   "source": [
    "### FastText \n",
    "- CBOW Version"
   ]
  },
  {
   "cell_type": "code",
   "execution_count": 4,
   "metadata": {},
   "outputs": [],
   "source": [
    "model_ft_cbow = gensim.models.fasttext.FastText.load('../models/fast_cbow_300D')"
   ]
  },
  {
   "cell_type": "markdown",
   "metadata": {},
   "source": [
    "- Skip-Gram Version"
   ]
  },
  {
   "cell_type": "code",
   "execution_count": 5,
   "metadata": {},
   "outputs": [],
   "source": [
    "model_ft_sg = gensim.models.fasttext.FastText.load('../models/fast_sg_300D')"
   ]
  },
  {
   "cell_type": "markdown",
   "metadata": {},
   "source": [
    "### Word2Vec\n",
    "- CBOW Version"
   ]
  },
  {
   "cell_type": "code",
   "execution_count": 6,
   "metadata": {},
   "outputs": [],
   "source": [
    "model_w2v_cbow = gensim.models.Word2Vec.load('../models/w2v_cbow_300D')"
   ]
  },
  {
   "cell_type": "markdown",
   "metadata": {},
   "source": [
    "- Skip-Gram Version"
   ]
  },
  {
   "cell_type": "code",
   "execution_count": 7,
   "metadata": {},
   "outputs": [],
   "source": [
    "model_w2v_sg = gensim.models.Word2Vec.load('../models/w2v_sg_300D')"
   ]
  },
  {
   "cell_type": "code",
   "execution_count": 8,
   "metadata": {
    "scrolled": true
   },
   "outputs": [
    {
     "name": "stdout",
     "output_type": "stream",
     "text": [
      "model loaded\n"
     ]
    },
    {
     "name": "stderr",
     "output_type": "stream",
     "text": [
      "Warning : `load_model` does not return WordVectorModel or SupervisedModel any more, but a `FastText` object which is very similar.\n"
     ]
    }
   ],
   "source": [
    "\n",
    "from gensim.models import KeyedVectors\n",
    "import fasttext\n",
    "# Load vector directly from the file\n",
    "def load_model():\n",
    "    try:\n",
    "        # model = KeyedVectors.load_word2vec_format('../model/frWac_postag_no_phrase_1000_skip_cut100.bin', binary=True)\n",
    "        model = fasttext.load_model(\"../models/cc.fr.300.bin\")\n",
    "        print(\"model loaded\")\n",
    "        return model\n",
    "    except:\n",
    "        print(\"model not found\")\n",
    "        \n",
    "model = load_model()\n",
    "\n"
   ]
  },
  {
   "cell_type": "markdown",
   "metadata": {},
   "source": [
    "# Compute word vector\n"
   ]
  },
  {
   "cell_type": "code",
   "execution_count": 9,
   "metadata": {},
   "outputs": [],
   "source": [
    "def get_WordVector(word,p_model):\n",
    "    # Check if a word exists in the model\n",
    "    try:\n",
    "        vector = p_model[word]\n",
    "        return vector\n",
    "    except:\n",
    "        vector = model_ft_sg[word]\n",
    "        return vector    "
   ]
  },
  {
   "cell_type": "markdown",
   "metadata": {},
   "source": [
    "# Compute sentence vector"
   ]
  },
  {
   "cell_type": "code",
   "execution_count": 10,
   "metadata": {},
   "outputs": [],
   "source": [
    "def get_SentenceVector(sentence,p_model):\n",
    "    list_word_vectors = list()\n",
    "    for word in sentence:\n",
    "        word_vec = get_WordVector(word,p_model)\n",
    "        list_word_vectors.append(word_vec)\n",
    "    return sum(list_word_vectors)/len(sentence)"
   ]
  },
  {
   "cell_type": "markdown",
   "metadata": {},
   "source": [
    "# Compute cosine distance"
   ]
  },
  {
   "cell_type": "code",
   "execution_count": 11,
   "metadata": {},
   "outputs": [],
   "source": [
    "from scipy import spatial\n",
    "\n",
    "def get_cosine_distance(word_vec_1,word_vec_2):\n",
    "    return (1 - spatial.distance.cosine(word_vec_1, word_vec_2))"
   ]
  },
  {
   "cell_type": "code",
   "execution_count": 12,
   "metadata": {},
   "outputs": [],
   "source": [
    "from sklearn.metrics.pairwise import cosine_similarity\n",
    "\n",
    "def get_cos_distance(word_vec_1,word_vec_2):\n",
    "    return cosine_similarity([word_vec_1], [word_vec_2])"
   ]
  },
  {
   "cell_type": "code",
   "execution_count": 13,
   "metadata": {},
   "outputs": [],
   "source": [
    "from math import sqrt \n",
    "def euclidean_similarity(x,y):\n",
    "    edist = sqrt(sum(pow(a-b,2) for a, b in zip(x, y)))\n",
    "    edist = edist/10\n",
    "    return 1-edist"
   ]
  },
  {
   "cell_type": "code",
   "execution_count": 14,
   "metadata": {
    "scrolled": false
   },
   "outputs": [
    {
     "data": {
      "text/plain": [
       "'\\nsentence_vec_1 = get_SentenceVector([\"Je\",\"mange\",\"des\",\"nougats\",\"le\",\"matin\"])\\nsentence_vec_2 = get_SentenceVector([\"Je\",\"mange\",\"des\",\"pommes\"])\\nprint(get_cosine_distance(sentence_vec_1,sentence_vec_2))\\n\\nprint(\"---------\")\\nsentence_vec_1 = get_SentenceVector([\"Je\",\"dors\",\"la\",\"nuit\",\"et\",\"je\",\"vole\",\"le\",\"jour\"])\\nsentence_vec_2 = get_SentenceVector([\"Je\",\"mange\",\"des\",\"pommes\"])\\nprint(get_cosine_distance(sentence_vec_1,sentence_vec_2))\\n'"
      ]
     },
     "execution_count": 14,
     "metadata": {},
     "output_type": "execute_result"
    }
   ],
   "source": [
    "\"\"\"\n",
    "sentence_vec_1 = get_SentenceVector([\"Je\",\"mange\",\"des\",\"nougats\",\"le\",\"matin\"])\n",
    "sentence_vec_2 = get_SentenceVector([\"Je\",\"mange\",\"des\",\"pommes\"])\n",
    "print(get_cosine_distance(sentence_vec_1,sentence_vec_2))\n",
    "\n",
    "print(\"---------\")\n",
    "sentence_vec_1 = get_SentenceVector([\"Je\",\"dors\",\"la\",\"nuit\",\"et\",\"je\",\"vole\",\"le\",\"jour\"])\n",
    "sentence_vec_2 = get_SentenceVector([\"Je\",\"mange\",\"des\",\"pommes\"])\n",
    "print(get_cosine_distance(sentence_vec_1,sentence_vec_2))\n",
    "\"\"\""
   ]
  },
  {
   "cell_type": "markdown",
   "metadata": {},
   "source": [
    "# Remove stop words"
   ]
  },
  {
   "cell_type": "code",
   "execution_count": 15,
   "metadata": {},
   "outputs": [],
   "source": [
    "from nltk.tokenize import sent_tokenize, word_tokenize\n",
    "from nltk.corpus import stopwords\n",
    " \n",
    "def rm_stop_words_nltk(sentence):\n",
    "    stopWords = set(stopwords.words('french'))\n",
    "    words = word_tokenize(sentence)\n",
    "    wordsFiltered = []\n",
    "    for w in words:\n",
    "        if w not in stopWords:\n",
    "            wordsFiltered.append(w)\n",
    "    return wordsFiltered"
   ]
  },
  {
   "cell_type": "code",
   "execution_count": 16,
   "metadata": {},
   "outputs": [],
   "source": [
    "from spacy.lang.fr.stop_words import STOP_WORDS as fr_stop\n",
    "final_stopwords_list = list(fr_stop)\n",
    "\n",
    "def rm_stop_words_spacy(sentence):\n",
    "    final_stopwords_list = list(fr_stop)\n",
    "    words = word_tokenize(sentence)\n",
    "    wordsFiltered = []\n",
    "    for w in words:\n",
    "        if w not in final_stopwords_list:\n",
    "            wordsFiltered.append(w)\n",
    "    return wordsFiltered"
   ]
  },
  {
   "cell_type": "code",
   "execution_count": 17,
   "metadata": {},
   "outputs": [
    {
     "name": "stdout",
     "output_type": "stream",
     "text": [
      "['dors', 'nuit', 'vole', 'jour', 'lit', 'fait', 'taille', 'mongolfiere']\n",
      "['dors', 'nuit', 'vole', 'jour', 'lit', 'taille', 'mongolfiere']\n"
     ]
    }
   ],
   "source": [
    "sentence = \"je dors la nuit et je vole le jour sur un lit qui fait la taille de une mongolfiere\"\n",
    "print(rm_stop_words_nltk(sentence))\n",
    "print(rm_stop_words_spacy(sentence))"
   ]
  },
  {
   "cell_type": "markdown",
   "metadata": {},
   "source": [
    "# Remove all non-alphanumeric characters"
   ]
  },
  {
   "cell_type": "code",
   "execution_count": 18,
   "metadata": {},
   "outputs": [
    {
     "name": "stdout",
     "output_type": "stream",
     "text": [
      "bonjour comment allez vous\n"
     ]
    }
   ],
   "source": [
    "import re\n",
    "def remove_non_alphanum_chars(sentence):\n",
    "    return re.sub(r'([^\\s\\w]|_)+', '', sentence)\n",
    "\n",
    "import string\n",
    "def remove_non_alphanum_chars(s):\n",
    "    return s.translate(str.maketrans('', '', string.punctuation))\n",
    "print (remove_non_alphanum_chars(\"bonjour, comment allez vous?\"))\n",
    "\n",
    "\n",
    "punctuations = '''!()-[]{};:'\"\\,<>./?@#$%^&*_~'''\n"
   ]
  },
  {
   "cell_type": "code",
   "execution_count": 19,
   "metadata": {},
   "outputs": [
    {
     "name": "stdout",
     "output_type": "stream",
     "text": [
      "Je mappelle Basile je suis pauvre Je mange des gateaux\n"
     ]
    }
   ],
   "source": [
    "print(remove_non_alphanum_chars(\"Je m'appelle Basile, je suis pauvre. Je mange des gateaux.\"))"
   ]
  },
  {
   "cell_type": "markdown",
   "metadata": {},
   "source": [
    "# Pre-Processing"
   ]
  },
  {
   "cell_type": "code",
   "execution_count": 20,
   "metadata": {},
   "outputs": [],
   "source": [
    "def preprocess(sentence):\n",
    "    # Add pre-processing steps\n",
    "    sentence = remove_non_alphanum_chars(sentence)\n",
    "    sentence = rm_stop_words_spacy(sentence)\n",
    "    return sentence"
   ]
  },
  {
   "cell_type": "markdown",
   "metadata": {},
   "source": [
    "# Get sentence answer number"
   ]
  },
  {
   "cell_type": "code",
   "execution_count": 21,
   "metadata": {},
   "outputs": [],
   "source": [
    "def get_sentence_answer_num(sent_list,ans_start):\n",
    "    matched_indexes = []\n",
    "    #print(\"ans_start : \",ans_start)\n",
    "    i = -1\n",
    "    cpt = 0\n",
    "    while cpt < ans_start:\n",
    "        cpt = cpt + len(sent_list[i+1])\n",
    "        i += 1\n",
    "    return i"
   ]
  },
  {
   "cell_type": "code",
   "execution_count": 22,
   "metadata": {},
   "outputs": [],
   "source": [
    "def get_sentence_answer_num(sent_list,ans):\n",
    "    matched_indexes = []\n",
    "    #print(\"ans_start : \",ans_start)\n",
    "    ind = 0\n",
    "    for index,sent in enumerate(sent_list):\n",
    "        if ans in sent:\n",
    "            ind = index\n",
    "            break\n",
    "    return ind"
   ]
  },
  {
   "cell_type": "markdown",
   "metadata": {},
   "source": [
    "# Split text into sentences"
   ]
  },
  {
   "cell_type": "code",
   "execution_count": 23,
   "metadata": {
    "scrolled": true
   },
   "outputs": [
    {
     "name": "stderr",
     "output_type": "stream",
     "text": [
      "/usr/local/lib/python3.7/site-packages/ipykernel_launcher.py:4: DeprecationWarning: Call to deprecated `__getitem__` (Method will be removed in 4.0.0, use self.wv.__getitem__() instead).\n",
      "  after removing the cwd from sys.path.\n"
     ]
    }
   ],
   "source": [
    "import nltk\n",
    "\n",
    "list_len_context = list()\n",
    "feature_df = pd.DataFrame(columns=[\"cos_dist_0\",\n",
    "                                   \"cos_dist_1\",\n",
    "                                   \"cos_dist_2\",\n",
    "                                   \"cos_dist_3\",\n",
    "                                   \"cos_dist_4\",\n",
    "                                   \"cos_dist_5\",\n",
    "                                   \"cos_dist_6\",\n",
    "                                   \"cos_dist_7\",\n",
    "                                   \"cos_dist_8\",\n",
    "                                   \"cos_dist_9\",\n",
    "                                   \"cos_dist_10\",\n",
    "                                   \"True Index\",\"Pred Index\"])\n",
    "feature_df_2 = pd.DataFrame(columns=[\"Answer\",\"Question\"])\n",
    "\n",
    "true_cpt = 0\n",
    "false_cpt = 0\n",
    "\n",
    "\n",
    "for index, row in question_df.iterrows():\n",
    "    # print(\"--------\")\n",
    "    splitted_context = nltk.tokenize.sent_tokenize(row['Context'])   \n",
    "    index_answer = get_sentence_answer_num(splitted_context,row['Answer start'])\n",
    "    list_cos_distance = list()\n",
    "    list_sents = list()\n",
    "    question = row['Question']\n",
    "    preprocessed_question = preprocess(question.lower())\n",
    "    # print(splitted_context)\n",
    "    # print(preprocessed_question)\n",
    "\n",
    "    question_vector = get_SentenceVector(preprocessed_question,model_ft_sg)\n",
    "    if len(splitted_context) <= 10:\n",
    "        list_len_context.append(len(splitted_context))\n",
    "        for sentence in splitted_context:\n",
    "            preprocessed_sentence = preprocess(sentence.lower())\n",
    "            if len(preprocessed_sentence) != 0:\n",
    "                sentence_vector = get_SentenceVector(preprocessed_sentence,model_ft_sg)\n",
    "                list_sents.append(sentence_vector)\n",
    "                cos_distance = get_cosine_distance(sentence_vector,question_vector)\n",
    "                list_cos_distance.append(cos_distance)\n",
    "            else:\n",
    "                list_cos_distance.append(0)\n",
    "                list_sents.append(0)\n",
    "\n",
    "        # print(row['Context'])\n",
    "        # print(row['Question'])\n",
    "        # print(row['Answer start'])\n",
    "\n",
    "        # print(list_cos_distance)\n",
    "        index = list_cos_distance.index(max(list_cos_distance))\n",
    "        # print(\"Predicted index : \",index)\n",
    "        # print(\"index_answer : \",index_answer)\n",
    "        # print(\"Guessed sentence : \",list_sents[index])\n",
    "        # print(\"Real sentence : \",list_sents[index_answer])\n",
    "\n",
    "        # print(\"Guessed cos : \",list_cos_distance[index])\n",
    "        # print(\"Real cos : \",list_cos_distance[index_answer])\n",
    "\n",
    "        if index == index_answer:\n",
    "            true_cpt+=1\n",
    "        else :\n",
    "            false_cpt+=1\n",
    "        \n",
    "        while len(list_cos_distance) <= 10:\n",
    "            list_cos_distance.append(0)\n",
    "            \n",
    "        row = pd.Series(data={'cos_dist_0' : list_cos_distance[0],\n",
    "                              'cos_dist_1' : list_cos_distance[1],\n",
    "                              'cos_dist_2' : list_cos_distance[2],\n",
    "                              'cos_dist_3' : list_cos_distance[3],\n",
    "                              'cos_dist_4' : list_cos_distance[4],\n",
    "                              'cos_dist_5' : list_cos_distance[5],\n",
    "                              'cos_dist_6' : list_cos_distance[6],\n",
    "                              'cos_dist_7' : list_cos_distance[7],\n",
    "                              'cos_dist_8' : list_cos_distance[8],\n",
    "                              'cos_dist_9' : list_cos_distance[9],\n",
    "                              'cos_dist_10' : list_cos_distance[10],\n",
    "                              'True Index': index_answer, \n",
    "                              'Pred Index': index})\n",
    "        feature_df = feature_df.append(row,ignore_index=True)"
   ]
  },
  {
   "cell_type": "code",
   "execution_count": 24,
   "metadata": {},
   "outputs": [
    {
     "name": "stdout",
     "output_type": "stream",
     "text": [
      "4.747976928374656\n",
      "10\n",
      "1\n"
     ]
    },
    {
     "data": {
      "image/png": "[encoded data removed]",
      "text/plain": [
       "<Figure size 432x288 with 1 Axes>"
      ]
     },
     "metadata": {
      "needs_background": "light"
     },
     "output_type": "display_data"
    }
   ],
   "source": [
    "import numpy as np\n",
    "import pandas as pd\n",
    "import matplotlib.pyplot as plt\n",
    "\n",
    "%matplotlib inline\n",
    "\n",
    "plt.hist(list_len_context, density=True, bins=max(list_len_context))  # `density=False` would make counts\n",
    "plt.ylabel('Probability')\n",
    "plt.xlabel('Data');\n",
    "# Python program to get average of a list \n",
    "def Average(lst): \n",
    "    return sum(lst) / len(lst) \n",
    "\n",
    "print(Average(list_len_context))\n",
    "print(max(list_len_context))\n",
    "print(min(list_len_context))"
   ]
  },
  {
   "cell_type": "code",
   "execution_count": 25,
   "metadata": {},
   "outputs": [
    {
     "name": "stdout",
     "output_type": "stream",
     "text": [
      "15893\n",
      "7339\n"
     ]
    }
   ],
   "source": [
    "print(true_cpt)\n",
    "print(false_cpt)"
   ]
  },
  {
   "cell_type": "code",
   "execution_count": 26,
   "metadata": {},
   "outputs": [
    {
     "name": "stdout",
     "output_type": "stream",
     "text": [
      "0.684099517906336\n"
     ]
    }
   ],
   "source": [
    "def accuracy(target, predicted):\n",
    "    \n",
    "    acc = (target==predicted).sum()/len(target)\n",
    "    \n",
    "    return acc\n",
    "\n",
    "print(accuracy(feature_df[\"True Index\"], feature_df[\"Pred Index\"]))"
   ]
  },
  {
   "cell_type": "markdown",
   "metadata": {},
   "source": [
    "# Save the dataframe to a csv file"
   ]
  },
  {
   "cell_type": "code",
   "execution_count": 28,
   "metadata": {},
   "outputs": [],
   "source": [
    "feature_df.to_csv('../data/train.csv',index=False)"
   ]
  }
 ],
 "metadata": {
  "kernelspec": {
   "display_name": "Python 3",
   "language": "python",
   "name": "python3"
  },
  "language_info": {
   "codemirror_mode": {
    "name": "ipython",
    "version": 3
   },
   "file_extension": ".py",
   "mimetype": "text/x-python",
   "name": "python",
   "nbconvert_exporter": "python",
   "pygments_lexer": "ipython3",
   "version": "3.7.7"
  }
 },
 "nbformat": 4,
 "nbformat_minor": 4
}
