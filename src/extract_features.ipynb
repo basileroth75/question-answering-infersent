{
 "cells": [
  {
   "cell_type": "markdown",
   "metadata": {},
   "source": [
    "# Load data from JSON file\n",
    "- Create empty dataframe\n",
    "- Loop on every question/answer pair in the file\n",
    "- Add a row to the dataframe for each pair"
   ]
  },
  {
   "cell_type": "code",
   "execution_count": 1,
   "metadata": {},
   "outputs": [],
   "source": [
    "import json\n",
    "import pandas as pd\n",
    "\n",
    "question_df = pd.DataFrame(columns=[\"Question\",\"Context\",\"Text answer\",\"Answer start\"])\n",
    "\n",
    "FILE_PATH = \"../data/\"\n",
    "\n",
    "with open(FILE_PATH+'valid.json') as json_file:\n",
    "    data = json.load(json_file)\n",
    "    for book in data['data']:\n",
    "        for paragraph in book['paragraphs']:\n",
    "            for question in paragraph['qas']:\n",
    "                row = pd.Series(data={'Question' : question['question'],\n",
    "                                      'Context' : paragraph['context'],\n",
    "                                      'Text answer': question['answers'][0]['answer_start'],\n",
    "                                      'Answer start': question['answers'][0]['text']})\n",
    "                question_df = question_df.append(row,ignore_index=True)"
   ]
  },
  {
   "cell_type": "code",
   "execution_count": 2,
   "metadata": {
    "scrolled": true
   },
   "outputs": [
    {
     "data": {
      "text/html": [
       "<div>\n",
       "<style scoped>\n",
       "    .dataframe tbody tr th:only-of-type {\n",
       "        vertical-align: middle;\n",
       "    }\n",
       "\n",
       "    .dataframe tbody tr th {\n",
       "        vertical-align: top;\n",
       "    }\n",
       "\n",
       "    .dataframe thead th {\n",
       "        text-align: right;\n",
       "    }\n",
       "</style>\n",
       "<table border=\"1\" class=\"dataframe\">\n",
       "  <thead>\n",
       "    <tr style=\"text-align: right;\">\n",
       "      <th></th>\n",
       "      <th>Question</th>\n",
       "      <th>Context</th>\n",
       "      <th>Text answer</th>\n",
       "      <th>Answer start</th>\n",
       "    </tr>\n",
       "  </thead>\n",
       "  <tbody>\n",
       "    <tr>\n",
       "      <th>0</th>\n",
       "      <td>Que concerne principalement les documents ?</td>\n",
       "      <td>Les deux tableaux sont certes décrits par des ...</td>\n",
       "      <td>161</td>\n",
       "      <td>La Vierge aux rochers</td>\n",
       "    </tr>\n",
       "    <tr>\n",
       "      <th>1</th>\n",
       "      <td>Par quoi sont décrit les deux tableaux ?</td>\n",
       "      <td>Les deux tableaux sont certes décrits par des ...</td>\n",
       "      <td>46</td>\n",
       "      <td>documents contemporains</td>\n",
       "    </tr>\n",
       "    <tr>\n",
       "      <th>2</th>\n",
       "      <td>Quels types d'objets sont les deux tableaux au...</td>\n",
       "      <td>Les deux tableaux sont certes décrits par des ...</td>\n",
       "      <td>204</td>\n",
       "      <td>objets de spéculations</td>\n",
       "    </tr>\n",
       "    <tr>\n",
       "      <th>3</th>\n",
       "      <td>Sur quelle jambe les personnages se tiennent-t...</td>\n",
       "      <td>Les deux panneaux présentent de nombreuses sim...</td>\n",
       "      <td>242</td>\n",
       "      <td>droite</td>\n",
       "    </tr>\n",
       "    <tr>\n",
       "      <th>4</th>\n",
       "      <td>Quel pied avancent les personnages ?</td>\n",
       "      <td>Les deux panneaux présentent de nombreuses sim...</td>\n",
       "      <td>271</td>\n",
       "      <td>gauche</td>\n",
       "    </tr>\n",
       "    <tr>\n",
       "      <th>...</th>\n",
       "      <td>...</td>\n",
       "      <td>...</td>\n",
       "      <td>...</td>\n",
       "      <td>...</td>\n",
       "    </tr>\n",
       "    <tr>\n",
       "      <th>3183</th>\n",
       "      <td>A quel risque la zone où se situe la chapelle ...</td>\n",
       "      <td>La chapelle se trouvant dans une zone inondabl...</td>\n",
       "      <td>33</td>\n",
       "      <td>zone inondable</td>\n",
       "    </tr>\n",
       "    <tr>\n",
       "      <th>3184</th>\n",
       "      <td>Comment était disposés les murets par rapport ...</td>\n",
       "      <td>La chapelle se trouvant dans une zone inondabl...</td>\n",
       "      <td>210</td>\n",
       "      <td>perpendiculaires au courant</td>\n",
       "    </tr>\n",
       "    <tr>\n",
       "      <th>3185</th>\n",
       "      <td>En quelle matière sont les dalles du canal ?</td>\n",
       "      <td>La chapelle se trouvant dans une zone inondabl...</td>\n",
       "      <td>322</td>\n",
       "      <td>schiste</td>\n",
       "    </tr>\n",
       "    <tr>\n",
       "      <th>3186</th>\n",
       "      <td>Par quoi le canal est-il doublé ?</td>\n",
       "      <td>La chapelle se trouvant dans une zone inondabl...</td>\n",
       "      <td>479</td>\n",
       "      <td>par une digue</td>\n",
       "    </tr>\n",
       "    <tr>\n",
       "      <th>3187</th>\n",
       "      <td>A quoi devaient servir les terrasses ?</td>\n",
       "      <td>La chapelle se trouvant dans une zone inondabl...</td>\n",
       "      <td>1060</td>\n",
       "      <td>terrains agricoles</td>\n",
       "    </tr>\n",
       "  </tbody>\n",
       "</table>\n",
       "<p>3188 rows × 4 columns</p>\n",
       "</div>"
      ],
      "text/plain": [
       "                                               Question  \\\n",
       "0           Que concerne principalement les documents ?   \n",
       "1              Par quoi sont décrit les deux tableaux ?   \n",
       "2     Quels types d'objets sont les deux tableaux au...   \n",
       "3     Sur quelle jambe les personnages se tiennent-t...   \n",
       "4                 Quel pied avancent les personnages ?    \n",
       "...                                                 ...   \n",
       "3183  A quel risque la zone où se situe la chapelle ...   \n",
       "3184  Comment était disposés les murets par rapport ...   \n",
       "3185       En quelle matière sont les dalles du canal ?   \n",
       "3186                  Par quoi le canal est-il doublé ?   \n",
       "3187             A quoi devaient servir les terrasses ?   \n",
       "\n",
       "                                                Context Text answer  \\\n",
       "0     Les deux tableaux sont certes décrits par des ...         161   \n",
       "1     Les deux tableaux sont certes décrits par des ...          46   \n",
       "2     Les deux tableaux sont certes décrits par des ...         204   \n",
       "3     Les deux panneaux présentent de nombreuses sim...         242   \n",
       "4     Les deux panneaux présentent de nombreuses sim...         271   \n",
       "...                                                 ...         ...   \n",
       "3183  La chapelle se trouvant dans une zone inondabl...          33   \n",
       "3184  La chapelle se trouvant dans une zone inondabl...         210   \n",
       "3185  La chapelle se trouvant dans une zone inondabl...         322   \n",
       "3186  La chapelle se trouvant dans une zone inondabl...         479   \n",
       "3187  La chapelle se trouvant dans une zone inondabl...        1060   \n",
       "\n",
       "                     Answer start  \n",
       "0           La Vierge aux rochers  \n",
       "1         documents contemporains  \n",
       "2          objets de spéculations  \n",
       "3                          droite  \n",
       "4                          gauche  \n",
       "...                           ...  \n",
       "3183               zone inondable  \n",
       "3184  perpendiculaires au courant  \n",
       "3185                      schiste  \n",
       "3186                par une digue  \n",
       "3187           terrains agricoles  \n",
       "\n",
       "[3188 rows x 4 columns]"
      ]
     },
     "metadata": {},
     "output_type": "display_data"
    }
   ],
   "source": [
    "display(question_df)"
   ]
  },
  {
   "cell_type": "markdown",
   "metadata": {},
   "source": [
    "# Load the model"
   ]
  },
  {
   "cell_type": "code",
   "execution_count": 3,
   "metadata": {},
   "outputs": [
    {
     "name": "stdout",
     "output_type": "stream",
     "text": [
      "model loaded\n"
     ]
    },
    {
     "name": "stderr",
     "output_type": "stream",
     "text": [
      "Warning : `load_model` does not return WordVectorModel or SupervisedModel any more, but a `FastText` object which is very similar.\n"
     ]
    }
   ],
   "source": [
    "from gensim.models import KeyedVectors\n",
    "import fasttext\n",
    "# Load vector directly from the file\n",
    "def load_model():\n",
    "    try:\n",
    "        # model = KeyedVectors.load_word2vec_format('../model/frWac_postag_no_phrase_1000_skip_cut100.bin', binary=True)\n",
    "        model = fasttext.load_model(\"../model/cc.fr.300.bin\")\n",
    "        print(\"model loaded\")\n",
    "        return model\n",
    "    except:\n",
    "        print(\"model not found\")\n",
    "        \n",
    "model = load_model()"
   ]
  },
  {
   "cell_type": "markdown",
   "metadata": {},
   "source": [
    "# Compute word vector"
   ]
  },
  {
   "cell_type": "code",
   "execution_count": 4,
   "metadata": {},
   "outputs": [],
   "source": [
    "def get_WordVector(word,model):\n",
    "    # Check if a word exists in the model\n",
    "    try:\n",
    "        vector = model[word]\n",
    "        return vector\n",
    "    except:\n",
    "        print(\"Not found\")"
   ]
  },
  {
   "cell_type": "markdown",
   "metadata": {},
   "source": [
    "# Compute cosine distance between 2 words"
   ]
  },
  {
   "cell_type": "code",
   "execution_count": 5,
   "metadata": {},
   "outputs": [],
   "source": [
    "from scipy import spatial\n",
    "\n",
    "def get_cosine_distance(word_vec_1,word_vec_2):\n",
    "    return (1 - spatial.distance.cosine(word_vec_1, word_vec_2))"
   ]
  },
  {
   "cell_type": "code",
   "execution_count": 6,
   "metadata": {},
   "outputs": [
    {
     "name": "stdout",
     "output_type": "stream",
     "text": [
      "0.3769944906234741\n"
     ]
    }
   ],
   "source": [
    "print(get_cosine_distance(get_WordVector(\"manger\",model),get_WordVector(\"pleurer\",model)))"
   ]
  },
  {
   "cell_type": "markdown",
   "metadata": {},
   "source": [
    "# Compute sentence vector"
   ]
  },
  {
   "cell_type": "code",
   "execution_count": 34,
   "metadata": {},
   "outputs": [],
   "source": [
    "from nltk.tokenize import word_tokenize\n",
    "\n",
    "def tokenize(sentence): \n",
    "    return word_tokenize(sentence, language='french')\n",
    "  \n",
    "def get_SentenceVector(sentence,model):\n",
    "    # splitted_sentence = tokenize(sentence)\n",
    "    list_word_vectors = list()\n",
    "    list_words = list()\n",
    "\n",
    "    for word in sentence:\n",
    "        word_vec = get_WordVector(word,model)\n",
    "        list_word_vectors.append(word_vec)\n",
    "        list_words.append(word)\n",
    "    return sum(list_word_vectors)/len(sentence)"
   ]
  },
  {
   "cell_type": "code",
   "execution_count": 9,
   "metadata": {},
   "outputs": [
    {
     "name": "stdout",
     "output_type": "stream",
     "text": [
      "0.86665940284729\n",
      "0.7887915968894958\n"
     ]
    }
   ],
   "source": [
    "sentence_vec_1 = get_SentenceVector(\"Je mange des nougats le matin\",model)\n",
    "sentence_vec_2 = get_SentenceVector(\"Je mange des pommes\",model)\n",
    "print(get_cosine_distance(sentence_vec_1,sentence_vec_2))\n",
    "\n",
    "sentence_vec_1 = get_SentenceVector(\"Je dors la nuit et je vole le jour\",model)\n",
    "sentence_vec_2 = get_SentenceVector(\"Je mange des pommes\",model)\n",
    "print(get_cosine_distance(sentence_vec_1,sentence_vec_2))"
   ]
  },
  {
   "cell_type": "markdown",
   "metadata": {},
   "source": [
    "# Remove stop words"
   ]
  },
  {
   "cell_type": "code",
   "execution_count": 10,
   "metadata": {},
   "outputs": [],
   "source": [
    "from nltk.tokenize import sent_tokenize, word_tokenize\n",
    "from nltk.corpus import stopwords\n",
    " \n",
    "def rm_stop_words_nltk(sentence):\n",
    "    stopWords = set(stopwords.words('french'))\n",
    "    words = word_tokenize(sentence)\n",
    "    wordsFiltered = []\n",
    "    for w in words:\n",
    "        if w not in stopWords:\n",
    "            wordsFiltered.append(w)\n",
    "    return wordsFiltered"
   ]
  },
  {
   "cell_type": "code",
   "execution_count": 11,
   "metadata": {},
   "outputs": [],
   "source": [
    "from spacy.lang.fr.stop_words import STOP_WORDS as fr_stop\n",
    "final_stopwords_list = list(fr_stop)\n",
    "\n",
    "def rm_stop_words_spacy(sentence):\n",
    "    final_stopwords_list = list(fr_stop)\n",
    "    words = word_tokenize(sentence)\n",
    "    wordsFiltered = []\n",
    "    for w in words:\n",
    "        if w not in final_stopwords_list:\n",
    "            wordsFiltered.append(w)\n",
    "    return wordsFiltered"
   ]
  },
  {
   "cell_type": "code",
   "execution_count": 12,
   "metadata": {},
   "outputs": [
    {
     "name": "stdout",
     "output_type": "stream",
     "text": [
      "['Je', 'dors', 'nuit', 'vole', 'jour', 'lit', 'fait', 'taille', 'mongolfiere']\n",
      "['Je', 'dors', 'nuit', 'vole', 'jour', 'lit', 'taille', 'mongolfiere']\n"
     ]
    }
   ],
   "source": [
    "sentence = \"Je dors la nuit et je vole le jour sur un lit qui fait la taille de une mongolfiere\"\n",
    "print(rm_stop_words_nltk(sentence))\n",
    "print(rm_stop_words_spacy(sentence))"
   ]
  },
  {
   "cell_type": "markdown",
   "metadata": {},
   "source": [
    "# Remove all non-alphanumeric characters"
   ]
  },
  {
   "cell_type": "code",
   "execution_count": 22,
   "metadata": {},
   "outputs": [],
   "source": [
    "def remove_non_alphanum_chars(sentence):\n",
    "    return re.sub(r'([^\\s\\w]|_)+', '', sentence)"
   ]
  },
  {
   "cell_type": "code",
   "execution_count": 23,
   "metadata": {},
   "outputs": [
    {
     "name": "stdout",
     "output_type": "stream",
     "text": [
      "Je mappelle Basile je suis pauvre Je mange des gateaux\n"
     ]
    }
   ],
   "source": [
    "print(remove_non_alphanum_chars(\"Je m'appelle Basile, je suis pauvre. Je mange des gateaux.\"))"
   ]
  },
  {
   "cell_type": "markdown",
   "metadata": {},
   "source": [
    "# Pre-Processing"
   ]
  },
  {
   "cell_type": "code",
   "execution_count": 30,
   "metadata": {},
   "outputs": [],
   "source": [
    "def preprocess(sentence):\n",
    "    # Add pre-processing steps\n",
    "    sentence = remove_non_alphanum_chars(sentence)\n",
    "    sentence = rm_stop_words_spacy(sentence)\n",
    "    return sentence"
   ]
  },
  {
   "cell_type": "markdown",
   "metadata": {},
   "source": [
    "# Split text into sentences"
   ]
  },
  {
   "cell_type": "code",
   "execution_count": 42,
   "metadata": {},
   "outputs": [],
   "source": [
    "import nltk\n",
    "\n",
    "list_len_context = list()\n",
    "\n",
    "for index, row in question_df.iterrows():\n",
    "    splitted_context = nltk.tokenize.sent_tokenize(row['Context'])\n",
    "    list_len_context.append(len(splitted_context))\n",
    "    for sentence in splitted_context:\n",
    "        sentence = preprocess(sentence)\n",
    "        if len(sentence) != 0:\n",
    "            sentence_vector = get_SentenceVector(sentence,model)\n",
    "            "
   ]
  },
  {
   "cell_type": "code",
   "execution_count": 48,
   "metadata": {},
   "outputs": [
    {
     "data": {
      "image/png": "[encoded data removed]",
      "text/plain": [
       "<Figure size 432x288 with 1 Axes>"
      ]
     },
     "metadata": {
      "needs_background": "light"
     },
     "output_type": "display_data"
    }
   ],
   "source": [
    "import numpy as np\n",
    "import pandas as pd\n",
    "import matplotlib.pyplot as plt\n",
    "\n",
    "%matplotlib inline\n",
    "\n",
    "plt.hist(list_len_context, density=True, bins=20)  # `density=False` would make counts\n",
    "plt.ylabel('Probability')\n",
    "plt.xlabel('Data');"
   ]
  },
  {
   "cell_type": "code",
   "execution_count": 43,
   "metadata": {},
   "outputs": [
    {
     "name": "stdout",
     "output_type": "stream",
     "text": [
      "5.4912170639899625\n",
      "20\n",
      "1\n"
     ]
    }
   ],
   "source": [
    "# Python program to get average of a list \n",
    "def Average(lst): \n",
    "    return sum(lst) / len(lst) \n",
    "\n",
    "print(Average(list_len_context))\n",
    "print(max(list_len_context))\n",
    "print(min(list_len_context))"
   ]
  },
  {
   "cell_type": "markdown",
   "metadata": {},
   "source": [
    "# Save the dataframe to a csv file"
   ]
  },
  {
   "cell_type": "code",
   "execution_count": null,
   "metadata": {},
   "outputs": [],
   "source": [
    "def save(df):\n",
    "    # Savess"
   ]
  }
 ],
 "metadata": {
  "kernelspec": {
   "display_name": "Python 3",
   "language": "python",
   "name": "python3"
  },
  "language_info": {
   "codemirror_mode": {
    "name": "ipython",
    "version": 3
   },
   "file_extension": ".py",
   "mimetype": "text/x-python",
   "name": "python",
   "nbconvert_exporter": "python",
   "pygments_lexer": "ipython3",
   "version": "3.7.7"
  }
 },
 "nbformat": 4,
 "nbformat_minor": 4
}
