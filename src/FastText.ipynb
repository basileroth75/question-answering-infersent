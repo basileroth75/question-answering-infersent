{
 "cells": [
  {
   "cell_type": "markdown",
   "metadata": {},
   "source": [
    "# 3. FastText Model"
   ]
  },
  {
   "cell_type": "code",
   "execution_count": 2,
   "metadata": {},
   "outputs": [
    {
     "name": "stderr",
     "output_type": "stream",
     "text": [
      "Using TensorFlow backend.\n"
     ]
    }
   ],
   "source": [
    "import os\n",
    "import gensim\n",
    "\n",
    "from utils import *\n",
    "\n",
    "import warnings\n",
    "warnings.filterwarnings(action='ignore', category=UserWarning, module='gensim')"
   ]
  },
  {
   "cell_type": "markdown",
   "metadata": {},
   "source": [
    "## 3.1. Train FastText Model"
   ]
  },
  {
   "cell_type": "markdown",
   "metadata": {},
   "source": [
    "### Getting Data"
   ]
  },
  {
   "cell_type": "code",
   "execution_count": 9,
   "metadata": {},
   "outputs": [],
   "source": [
    "class MySentences(object):\n",
    "    def __init__(self, dirname):    \n",
    "        \"\"\"\n",
    "        Sentences loading class\n",
    "        A memory-friendly iterator for word2vec model.\n",
    "        # Arguments\n",
    "            dirname : directory path of sentencens/data files.\n",
    "        # Returns\n",
    "            Sentences.\n",
    "        \"\"\"\n",
    "        self.dirname = dirname\n",
    " \n",
    "    def __iter__(self):\n",
    "        for fname in os.listdir(self.dirname):\n",
    "            for line in open(os.path.join(self.dirname, fname)):\n",
    "                yield line.split()"
   ]
  },
  {
   "cell_type": "code",
   "execution_count": 10,
   "metadata": {},
   "outputs": [],
   "source": [
    "# I use a memory friendly iterator\n",
    "text_w2v = MySentences(dirname='../data/')"
   ]
  },
  {
   "cell_type": "markdown",
   "metadata": {},
   "source": [
    "### CBOW Version"
   ]
  },
  {
   "cell_type": "code",
   "execution_count": 11,
   "metadata": {
    "scrolled": true
   },
   "outputs": [],
   "source": [
    "model_w2v = gensim.models.FastText(sentences=text_w2v, size=300, sg=0, hs=1, word_ngrams=1)\n",
    "if not os.path.exists('../models'):\n",
    "    os.mkdir('../models')\n",
    "model_w2v.save('../models/fast_cbow_300D')"
   ]
  },
  {
   "cell_type": "markdown",
   "metadata": {},
   "source": [
    "### Skip-Gram Version"
   ]
  },
  {
   "cell_type": "code",
   "execution_count": 12,
   "metadata": {},
   "outputs": [],
   "source": [
    "model_w2v = gensim.models.FastText(sentences=text_w2v, size=300, sg=1, hs=1, word_ngrams=1)\n",
    "if not os.path.exists('../models'):\n",
    "    os.mkdir('../models')\n",
    "model_w2v.save('../models/fast_sg_300D')"
   ]
  },
  {
   "cell_type": "markdown",
   "metadata": {},
   "source": [
    "## 3.2. Load FastText Model"
   ]
  },
  {
   "cell_type": "markdown",
   "metadata": {},
   "source": [
    "### - CBOW Version"
   ]
  },
  {
   "cell_type": "code",
   "execution_count": 6,
   "metadata": {},
   "outputs": [],
   "source": [
    "model_w2v = gensim.models.fasttext.FastText.load('../models/fast_cbow_300D')"
   ]
  },
  {
   "cell_type": "markdown",
   "metadata": {},
   "source": [
    "- #### Similar Words"
   ]
  },
  {
   "cell_type": "code",
   "execution_count": 11,
   "metadata": {},
   "outputs": [
    {
     "data": {
      "text/plain": [
       "[(\"t'appelle\", 0.9224079847335815),\n",
       " (\"l'appelle\", 0.8807339072227478),\n",
       " (\"m'appelait\", 0.854578971862793),\n",
       " (\"m'appelais\", 0.8342265486717224),\n",
       " ('appelle', 0.8243040442466736),\n",
       " (\"m'appelleras\", 0.8209994435310364),\n",
       " (\"t'appellera\", 0.8152071237564087),\n",
       " (\"s'appelle\", 0.8091527223587036),\n",
       " (\"t'appellerai\", 0.8021713495254517),\n",
       " (\"t'appelait\", 0.7965459823608398)]"
      ]
     },
     "execution_count": 11,
     "metadata": {},
     "output_type": "execute_result"
    }
   ],
   "source": [
    "model_w2v.wv.most_similar(\"m'appelle\")"
   ]
  },
  {
   "cell_type": "code",
   "execution_count": 21,
   "metadata": {},
   "outputs": [
    {
     "data": {
      "text/plain": [
       "[('difficiles', 0.7628830671310425),\n",
       " ('diffère', 0.6367588043212891),\n",
       " ('difficulté', 0.6088806390762329),\n",
       " ('facile', 0.5900378227233887),\n",
       " ('difficultés', 0.5419623851776123),\n",
       " ('stressante', 0.5203461647033691),\n",
       " ('éprouvante', 0.5177608728408813),\n",
       " ('dur', 0.5096060037612915),\n",
       " ('intéressante', 0.4871010184288025),\n",
       " ('pénible', 0.4869566261768341)]"
      ]
     },
     "execution_count": 21,
     "metadata": {},
     "output_type": "execute_result"
    }
   ],
   "source": [
    "model_w2v.wv.most_similar('difficile')"
   ]
  },
  {
   "cell_type": "markdown",
   "metadata": {},
   "source": [
    "- #### Similar Words : Out of Vocabulary Words"
   ]
  },
  {
   "cell_type": "code",
   "execution_count": 15,
   "metadata": {},
   "outputs": [
    {
     "data": {
      "text/plain": [
       "[('difficile', 0.926388680934906),\n",
       " ('difficiles', 0.8317775726318359),\n",
       " ('difficulté', 0.8042018413543701),\n",
       " ('difficultés', 0.7532557249069214),\n",
       " ('diffère', 0.726020872592926),\n",
       " ('durable', 0.6889504194259644),\n",
       " ('désagréable', 0.6839538812637329),\n",
       " ('efficacité', 0.6713117957115173),\n",
       " ('douloureux', 0.6706247329711914),\n",
       " ('dur', 0.6706138849258423)]"
      ]
     },
     "execution_count": 15,
     "metadata": {},
     "output_type": "execute_result"
    }
   ],
   "source": [
    "model_w2v.wv.most_similar('diffici')"
   ]
  },
  {
   "cell_type": "markdown",
   "metadata": {},
   "source": [
    "### - Skip-Gram Version"
   ]
  },
  {
   "cell_type": "code",
   "execution_count": 16,
   "metadata": {
    "scrolled": true
   },
   "outputs": [],
   "source": [
    "model_w2v = gensim.models.fasttext.FastText.load('../models/fast_sg_300D')"
   ]
  },
  {
   "cell_type": "markdown",
   "metadata": {},
   "source": [
    "- #### Similar Words"
   ]
  },
  {
   "cell_type": "code",
   "execution_count": 17,
   "metadata": {},
   "outputs": [
    {
     "data": {
      "text/plain": [
       "[('difficiles', 0.7628830671310425),\n",
       " ('diffère', 0.6367588043212891),\n",
       " ('difficulté', 0.6088806390762329),\n",
       " ('facile', 0.5900378227233887),\n",
       " ('difficultés', 0.5419623851776123),\n",
       " ('stressante', 0.5203461647033691),\n",
       " ('éprouvante', 0.5177608728408813),\n",
       " ('dur', 0.5096060037612915),\n",
       " ('intéressante', 0.4871010184288025),\n",
       " ('pénible', 0.4869566261768341)]"
      ]
     },
     "execution_count": 17,
     "metadata": {},
     "output_type": "execute_result"
    }
   ],
   "source": [
    "model_w2v.wv.most_similar('difficile')"
   ]
  },
  {
   "cell_type": "markdown",
   "metadata": {},
   "source": [
    "- #### Similar Words : Out of Vocabulary Words"
   ]
  },
  {
   "cell_type": "code",
   "execution_count": 18,
   "metadata": {},
   "outputs": [
    {
     "data": {
      "text/plain": [
       "[('difficile', 0.9102813005447388),\n",
       " ('difficiles', 0.8346987962722778),\n",
       " ('difficulté', 0.7629407048225403),\n",
       " ('difficultés', 0.7220677137374878),\n",
       " ('diffère', 0.7090779542922974),\n",
       " ('diffusion', 0.5623677372932434),\n",
       " ('diffusé', 0.5351862907409668),\n",
       " ('différend', 0.5241727828979492),\n",
       " ('différends', 0.5176236629486084),\n",
       " ('différencie', 0.5041417479515076)]"
      ]
     },
     "execution_count": 18,
     "metadata": {},
     "output_type": "execute_result"
    }
   ],
   "source": [
    "model_w2v.wv.most_similar('diffici')"
   ]
  },
  {
   "cell_type": "code",
   "execution_count": null,
   "metadata": {},
   "outputs": [],
   "source": []
  }
 ],
 "metadata": {
  "kernelspec": {
   "display_name": "Python 3",
   "language": "python",
   "name": "python3"
  },
  "language_info": {
   "codemirror_mode": {
    "name": "ipython",
    "version": 3
   },
   "file_extension": ".py",
   "mimetype": "text/x-python",
   "name": "python",
   "nbconvert_exporter": "python",
   "pygments_lexer": "ipython3",
   "version": "3.7.7"
  }
 },
 "nbformat": 4,
 "nbformat_minor": 2
}
